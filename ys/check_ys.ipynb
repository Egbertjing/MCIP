{
 "cells": [
  {
   "cell_type": "code",
   "execution_count": 1,
   "metadata": {},
   "outputs": [],
   "source": [
    "file_name = 'dp/'"
   ]
  },
  {
   "cell_type": "code",
   "execution_count": 2,
   "metadata": {},
   "outputs": [
    {
     "name": "stdout",
     "output_type": "stream",
     "text": [
      "(1026, 2)\n",
      "There are 0 missing values in y_pred\n",
      "Classification Report:\n",
      "              precision    recall  f1-score      support\n",
      "0.0            0.246173  1.000000  0.395087   193.000000\n",
      "1.0            0.000000  0.000000  0.000000    73.000000\n",
      "2.0            0.000000  0.000000  0.000000     0.000000\n",
      "3.0            0.489796  0.167832  0.250000   143.000000\n",
      "4.0            0.777778  0.414474  0.540773   152.000000\n",
      "5.0            0.000000  0.000000  0.000000    74.000000\n",
      "6.0            0.354839  0.146667  0.207547    75.000000\n",
      "7.0            0.750000  0.083333  0.150000    72.000000\n",
      "8.0            0.000000  0.000000  0.000000    74.000000\n",
      "10.0           0.983607  0.352941  0.519481   170.000000\n",
      "accuracy       0.347953  0.347953  0.347953     0.347953\n",
      "macro avg      0.360219  0.216525  0.206289  1026.000000\n",
      "weighted avg   0.471346  0.347953  0.301050  1026.000000\n"
     ]
    },
    {
     "name": "stderr",
     "output_type": "stream",
     "text": [
      "/tmp/ipykernel_3980944/2201177329.py:3: FutureWarning: You are using `torch.load` with `weights_only=False` (the current default value), which uses the default pickle module implicitly. It is possible to construct malicious pickle data which will execute arbitrary code during unpickling (See https://github.com/pytorch/pytorch/blob/main/SECURITY.md#untrusted-models for more details). In a future release, the default value for `weights_only` will be flipped to `True`. This limits the functions that could be executed during unpickling. Arbitrary objects will no longer be allowed to be loaded via this mode unless they are explicitly allowlisted by the user via `torch.serialization.add_safe_globals`. We recommend you start setting `weights_only=True` for any use case where you don't have full control of the loaded file. Please open an issue on GitHub for any issues related to this experimental feature.\n",
      "  y = torch.load(file_name)\n",
      "/aifs4su/hansirui_2nd/haoran/envs/huihao_agent/lib/python3.10/site-packages/sklearn/metrics/_classification.py:1565: UndefinedMetricWarning: Recall is ill-defined and being set to 0.0 in labels with no true samples. Use `zero_division` parameter to control this behavior.\n",
      "  _warn_prf(average, modifier, f\"{metric.capitalize()} is\", len(result))\n",
      "/aifs4su/hansirui_2nd/haoran/envs/huihao_agent/lib/python3.10/site-packages/sklearn/metrics/_classification.py:1565: UndefinedMetricWarning: Recall is ill-defined and being set to 0.0 in labels with no true samples. Use `zero_division` parameter to control this behavior.\n",
      "  _warn_prf(average, modifier, f\"{metric.capitalize()} is\", len(result))\n",
      "/aifs4su/hansirui_2nd/haoran/envs/huihao_agent/lib/python3.10/site-packages/sklearn/metrics/_classification.py:1565: UndefinedMetricWarning: Recall is ill-defined and being set to 0.0 in labels with no true samples. Use `zero_division` parameter to control this behavior.\n",
      "  _warn_prf(average, modifier, f\"{metric.capitalize()} is\", len(result))\n"
     ]
    }
   ],
   "source": [
    "from sklearn.metrics import accuracy_score, precision_score, recall_score, f1_score, classification_report\n",
    "import torch\n",
    "y = torch.load(file_name)\n",
    "print(y.shape)\n",
    "y = torch.tensor(y.values, dtype=torch.float32)\n",
    "y_t = torch.transpose(y, 0, 1)\n",
    "y_true = y_t[0]\n",
    "y_pred = y_t[1]\n",
    "\n",
    "# 创建掩码来过滤掉y_pred为-1的样本\n",
    "mask = y_pred != -1\n",
    "y_true_filtered = y_true[mask]\n",
    "y_pred_filtered = y_pred[mask]\n",
    "\n",
    "# 转换为NumPy数组用于评估\n",
    "y_true_numpy = y_true_filtered.numpy()\n",
    "y_pred_numpy = y_pred_filtered.numpy()\n",
    "\n",
    "report = classification_report(y_true_numpy, y_pred_numpy, output_dict=True)\n",
    "\n",
    "print(f'There are {torch.sum(y_pred == -1)} missing values in y_pred')\n",
    "print(\"Classification Report:\")\n",
    "import pandas as pd\n",
    "report_df = pd.DataFrame(report).transpose()\n",
    "print(report_df)"
   ]
  },
  {
   "cell_type": "code",
   "execution_count": 3,
   "metadata": {},
   "outputs": [
    {
     "name": "stdout",
     "output_type": "stream",
     "text": [
      "(1026, 2)\n",
      "There are 0 missing values in y_pred\n",
      "Classification Report:\n",
      "              precision    recall  f1-score      support\n",
      "0.0            0.246173  1.000000  0.395087   193.000000\n",
      "1.0            1.000000  0.290516  0.450233   833.000000\n",
      "accuracy       0.423977  0.423977  0.423977     0.423977\n",
      "macro avg      0.623087  0.645258  0.422660  1026.000000\n",
      "weighted avg   0.858198  0.423977  0.439859  1026.000000\n"
     ]
    },
    {
     "name": "stderr",
     "output_type": "stream",
     "text": [
      "/tmp/ipykernel_3980944/372349737.py:3: FutureWarning: You are using `torch.load` with `weights_only=False` (the current default value), which uses the default pickle module implicitly. It is possible to construct malicious pickle data which will execute arbitrary code during unpickling (See https://github.com/pytorch/pytorch/blob/main/SECURITY.md#untrusted-models for more details). In a future release, the default value for `weights_only` will be flipped to `True`. This limits the functions that could be executed during unpickling. Arbitrary objects will no longer be allowed to be loaded via this mode unless they are explicitly allowlisted by the user via `torch.serialization.add_safe_globals`. We recommend you start setting `weights_only=True` for any use case where you don't have full control of the loaded file. Please open an issue on GitHub for any issues related to this experimental feature.\n",
      "  y = torch.load(file_name)\n"
     ]
    }
   ],
   "source": [
    "from sklearn.metrics import accuracy_score, precision_score, recall_score, f1_score, classification_report\n",
    "import torch\n",
    "y = torch.load(file_name)\n",
    "print(y.shape)\n",
    "y = torch.tensor(y.values, dtype=torch.float32)\n",
    "y_t = torch.transpose(y, 0, 1)\n",
    "y_true = y_t[0]\n",
    "y_pred = y_t[1]\n",
    "\n",
    "mask = y_pred != -1\n",
    "y_true_filtered = y_true[mask]\n",
    "y_pred_filtered = y_pred[mask]\n",
    "\n",
    "# 将非0值转换为1\n",
    "y_true_binary = torch.where(y_true_filtered != 0, torch.ones_like(y_true_filtered), torch.zeros_like(y_true_filtered))\n",
    "y_pred_binary = torch.where(y_pred_filtered != 0, torch.ones_like(y_pred_filtered), torch.zeros_like(y_pred_filtered))\n",
    "\n",
    "# 转换为NumPy数组用于评估\n",
    "y_true_numpy = y_true_binary.numpy()\n",
    "y_pred_numpy = y_pred_binary.numpy()\n",
    "\n",
    "report = classification_report(y_true_numpy, y_pred_numpy, output_dict=True)\n",
    "\n",
    "print(f'There are {torch.sum(y_pred == -1)} missing values in y_pred')\n",
    "print(\"Classification Report:\")\n",
    "import pandas as pd\n",
    "report_df = pd.DataFrame(report).transpose()\n",
    "print(report_df)"
   ]
  },
  {
   "cell_type": "code",
   "execution_count": 4,
   "metadata": {},
   "outputs": [
    {
     "name": "stdout",
     "output_type": "stream",
     "text": [
      "(1026, 2)\n",
      "There are 0 missing values in y_pred\n",
      "Classification Report:\n",
      "              precision    recall  f1-score     support\n",
      "0.0            0.000000  0.000000  0.000000    0.000000\n",
      "1.0            0.000000  0.000000  0.000000   73.000000\n",
      "2.0            0.000000  0.000000  0.000000    0.000000\n",
      "3.0            0.489796  0.167832  0.250000  143.000000\n",
      "4.0            0.777778  0.414474  0.540773  152.000000\n",
      "5.0            0.000000  0.000000  0.000000   74.000000\n",
      "6.0            0.354839  0.146667  0.207547   75.000000\n",
      "7.0            0.750000  0.083333  0.150000   72.000000\n",
      "8.0            0.000000  0.000000  0.000000   74.000000\n",
      "10.0           0.983607  0.352941  0.519481  170.000000\n",
      "accuracy       0.196879  0.196879  0.196879    0.196879\n",
      "macro avg      0.335602  0.116525  0.166780  833.000000\n",
      "weighted avg   0.523516  0.196879  0.279262  833.000000\n"
     ]
    },
    {
     "name": "stderr",
     "output_type": "stream",
     "text": [
      "/tmp/ipykernel_3980944/1238385649.py:3: FutureWarning: You are using `torch.load` with `weights_only=False` (the current default value), which uses the default pickle module implicitly. It is possible to construct malicious pickle data which will execute arbitrary code during unpickling (See https://github.com/pytorch/pytorch/blob/main/SECURITY.md#untrusted-models for more details). In a future release, the default value for `weights_only` will be flipped to `True`. This limits the functions that could be executed during unpickling. Arbitrary objects will no longer be allowed to be loaded via this mode unless they are explicitly allowlisted by the user via `torch.serialization.add_safe_globals`. We recommend you start setting `weights_only=True` for any use case where you don't have full control of the loaded file. Please open an issue on GitHub for any issues related to this experimental feature.\n",
      "  y = torch.load(file_name)\n",
      "/aifs4su/hansirui_2nd/haoran/envs/huihao_agent/lib/python3.10/site-packages/sklearn/metrics/_classification.py:1565: UndefinedMetricWarning: Recall is ill-defined and being set to 0.0 in labels with no true samples. Use `zero_division` parameter to control this behavior.\n",
      "  _warn_prf(average, modifier, f\"{metric.capitalize()} is\", len(result))\n",
      "/aifs4su/hansirui_2nd/haoran/envs/huihao_agent/lib/python3.10/site-packages/sklearn/metrics/_classification.py:1565: UndefinedMetricWarning: Recall is ill-defined and being set to 0.0 in labels with no true samples. Use `zero_division` parameter to control this behavior.\n",
      "  _warn_prf(average, modifier, f\"{metric.capitalize()} is\", len(result))\n",
      "/aifs4su/hansirui_2nd/haoran/envs/huihao_agent/lib/python3.10/site-packages/sklearn/metrics/_classification.py:1565: UndefinedMetricWarning: Recall is ill-defined and being set to 0.0 in labels with no true samples. Use `zero_division` parameter to control this behavior.\n",
      "  _warn_prf(average, modifier, f\"{metric.capitalize()} is\", len(result))\n"
     ]
    }
   ],
   "source": [
    "from sklearn.metrics import accuracy_score, precision_score, recall_score, f1_score, classification_report\n",
    "import torch\n",
    "y = torch.load(file_name)\n",
    "print(y.shape)\n",
    "y = torch.tensor(y.values, dtype=torch.float32)\n",
    "y_t = torch.transpose(y, 0, 1)\n",
    "y_true = y_t[0]\n",
    "y_pred = y_t[1]\n",
    "\n",
    "# 创建掩码,去除y_pred为-1和y_true为0的样本\n",
    "mask = (y_pred != -1) & (y_true != 0)\n",
    "y_true_filtered = y_true[mask]\n",
    "y_pred_filtered = y_pred[mask]\n",
    "\n",
    "# 转换为NumPy数组用于评估\n",
    "y_true_numpy = y_true_filtered.numpy()\n",
    "y_pred_numpy = y_pred_filtered.numpy()\n",
    "\n",
    "report = classification_report(y_true_numpy, y_pred_numpy, output_dict=True)\n",
    "\n",
    "print(f'There are {torch.sum(y_pred == -1)} missing values in y_pred')\n",
    "print(\"Classification Report:\")\n",
    "import pandas as pd\n",
    "report_df = pd.DataFrame(report).transpose()\n",
    "print(report_df)\n"
   ]
  },
  {
   "cell_type": "code",
   "execution_count": null,
   "metadata": {},
   "outputs": [],
   "source": []
  }
 ],
 "metadata": {
  "kernelspec": {
   "display_name": "Python 3",
   "language": "python",
   "name": "python3"
  },
  "language_info": {
   "codemirror_mode": {
    "name": "ipython",
    "version": 3
   },
   "file_extension": ".py",
   "mimetype": "text/x-python",
   "name": "python",
   "nbconvert_exporter": "python",
   "pygments_lexer": "ipython3",
   "version": "3.10.16"
  }
 },
 "nbformat": 4,
 "nbformat_minor": 2
}
